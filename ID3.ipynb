{
 "cells": [
  {
   "cell_type": "code",
   "execution_count": 1,
   "id": "bf56182f",
   "metadata": {},
   "outputs": [],
   "source": [
    "# *****************************************************************************************************\n",
    "#\n",
    "# Decision Tree Classifier, using ID3 Algorithm \n",
    "#\n",
    "# Library: \n",
    "#   pandas, scikit-learn, matplotlib\n",
    "# Dataset:\n",
    "#   World Economic Forum \"Readiness for the future of production report 2018\"  \n",
    "#   https://www.weforum.org/reports/readiness-for-the-future-of-production-report-2018\n",
    "#\n",
    "# Created by: Andi Sama\n",
    "# NIM: 2540136324\n",
    "# Date created: April 2, 2023\n",
    "# Last modified: April 15, 2023\n",
    "# Program: Doctor of Computer Science (DCS)\n",
    "# Institution: Binus University\n",
    "# Subject: ISYS90219045 Advanced Knowledge System\n",
    "# Lecturer: Prof. Dr. Sfenrianto, S.Kom, M.Kom\n",
    "#\n",
    "# *****************************************************************************************************"
   ]
  },
  {
   "cell_type": "code",
   "execution_count": null,
   "id": "3dd063fc",
   "metadata": {},
   "outputs": [],
   "source": [
    "# import necessary library\n",
    "#\n",
    "import pandas as pd\n",
    "from sklearn.tree import DecisionTreeClassifier\n",
    "import matplotlib.pyplot as plt\n",
    "# import numpy as np\n",
    "#"
   ]
  },
  {
   "cell_type": "code",
   "execution_count": null,
   "id": "0060e50f",
   "metadata": {},
   "outputs": [],
   "source": [
    "# read the dataset, store in panda dataframe 'df'\n",
    "#\n",
    "df = pd.read_csv(\"data\\WEF_FOP2.csv\")\n",
    "features = df[[\"Technology & Innovation\",\"Human Capital\",\"Global Trade & Investment\",\"Institutional Framework\", \n",
    "               \"Sustainable Resources\",\"Demand Environment\"]]\n",
    "classes = df[\"Quartile\"]"
   ]
  },
  {
   "cell_type": "code",
   "execution_count": null,
   "id": "3afd410c",
   "metadata": {},
   "outputs": [],
   "source": [
    "# let's quickly see the dataset\n",
    "#\n",
    "df.head()"
   ]
  },
  {
   "cell_type": "code",
   "execution_count": null,
   "id": "da577fa7",
   "metadata": {
    "scrolled": false
   },
   "outputs": [],
   "source": [
    "# take a look more at the dataset\n",
    "#\n",
    "pd.set_option('display.max_rows', 10)\n",
    "df"
   ]
  },
  {
   "cell_type": "code",
   "execution_count": null,
   "id": "fcabb2b6",
   "metadata": {
    "scrolled": true
   },
   "outputs": [],
   "source": [
    "# let's inspect the input for our rule-based algorithm (classification)\n",
    "#\n",
    "features"
   ]
  },
  {
   "cell_type": "code",
   "execution_count": null,
   "id": "0885a61b",
   "metadata": {
    "scrolled": true
   },
   "outputs": [],
   "source": [
    "# let's inspect the target class for our rule-based algorithm (classification)\n",
    "#\n",
    "classes"
   ]
  },
  {
   "cell_type": "code",
   "execution_count": null,
   "id": "2ddad8ce",
   "metadata": {
    "scrolled": true
   },
   "outputs": [],
   "source": [
    "# create a DecisionTreeClassifier object\n",
    "#\n",
    "clf = DecisionTreeClassifier(criterion='entropy')\n",
    "\n",
    "# train the decision tree model on the dataset(input features, target classes)\n",
    "#\n",
    "clf.fit(features.values, classes.values)"
   ]
  },
  {
   "cell_type": "code",
   "execution_count": null,
   "id": "6602205f",
   "metadata": {
    "scrolled": true
   },
   "outputs": [],
   "source": [
    "# draw the decision tree\n",
    "#\n",
    "from sklearn.tree import plot_tree\n",
    "\n",
    "plt.figure()\n",
    "featurenames = [\"TechInn\", \"HmCap\", \"GlbTrdInv\", \"InstFrm\", \"SusRsc\", \"DmdEnv\"]\n",
    "classnames = [\"Q1\", \"Q2\", \"Q3\", \"Q4\"]\n",
    "trained = DecisionTreeClassifier().fit(features, classes)\n",
    "plot_tree(trained, feature_names=featurenames, class_names=classnames, filled=True)\n",
    "plt.title(\"Decision tree trained on all features\")\n",
    "# plt.show()\n",
    "resolution = 1200\n",
    "plt.savefig(\"ASM_decision_tree_ID3.png\", format=\"png\", dpi=resolution)\n"
   ]
  },
  {
   "cell_type": "code",
   "execution_count": null,
   "id": "fa602d15",
   "metadata": {
    "scrolled": true
   },
   "outputs": [],
   "source": [
    "# see the complete dataframe as the dataset to our algorithm\n",
    "#\n",
    "df"
   ]
  },
  {
   "cell_type": "code",
   "execution_count": null,
   "id": "2992c2ef",
   "metadata": {},
   "outputs": [],
   "source": [
    "#inspect the shape\n",
    "#\n",
    "features.shape"
   ]
  },
  {
   "cell_type": "code",
   "execution_count": null,
   "id": "cc3e4d76",
   "metadata": {},
   "outputs": [],
   "source": [
    "# # prediction from a single sample data, just to make sure for validation\n",
    "# new_data=([4.5,5.21,5.41,6.19,5,6.19])    # saudi arabia\n",
    "# new_features=pd.DataFrame(new_data).transpose()\n",
    "# # n=new_features[0].to_frame()\n",
    "# n=new_features\n",
    "# clf.predict(n)\n",
    "# n.shape"
   ]
  },
  {
   "cell_type": "code",
   "execution_count": null,
   "id": "ea3b5443",
   "metadata": {},
   "outputs": [],
   "source": [
    "# prediction from a few sample data, just to make sure for validation\n",
    "my_data=([4.5,5.21,5.41,6.19,5,6.19],             # saudi arabia, Q1\n",
    "          [4,4.99,5.06,4.59,4.09,6.38],           # indonesia, Q2\n",
    "          [3.18,3.65,2.72,3.67,2.88,5.37],        # pakistan, Q4\n",
    "          [4.01,4.23,4.11,4.17,3.97,4.68])        # with one new data - just a fixed randomized data\n",
    "new_features=pd.DataFrame(my_data).transpose()"
   ]
  },
  {
   "cell_type": "code",
   "execution_count": null,
   "id": "fc7d544f",
   "metadata": {},
   "outputs": [],
   "source": [
    "#inspect the shape\n",
    "#\n",
    "new_features.shape"
   ]
  },
  {
   "cell_type": "code",
   "execution_count": null,
   "id": "092eaed5",
   "metadata": {
    "scrolled": true
   },
   "outputs": [],
   "source": [
    "# n=new_features[0].to_frame()\n",
    "#\n",
    "new_features"
   ]
  },
  {
   "cell_type": "code",
   "execution_count": null,
   "id": "0a097583",
   "metadata": {},
   "outputs": [],
   "source": [
    "# predict with new dataset: new_features\n",
    "#\n",
    "clf.predict(new_features.transpose())"
   ]
  },
  {
   "cell_type": "code",
   "execution_count": null,
   "id": "381c7a1a",
   "metadata": {},
   "outputs": [],
   "source": [
    "# Generate eight randomized data for all six features each, within the boundary of the trained data \n",
    "# the boundaries are the minimum and maximum scores of \"mean of all 6 features\"\n",
    "#\n",
    "import statistics\n",
    "import random\n",
    "min_features = [min(features[\"Technology & Innovation\"]), min(features[\"Human Capital\"]),\n",
    "                min(features[\"Global Trade & Investment\"]), min(features[\"Institutional Framework\"]), \n",
    "                min(features[\"Sustainable Resources\"]), min(features[\"Demand Environment\"])]\n",
    "max_features = [max(features[\"Technology & Innovation\"]), max(features[\"Human Capital\"]),\n",
    "                max(features[\"Global Trade & Investment\"]), max(features[\"Institutional Framework\"]), \n",
    "                max(features[\"Sustainable Resources\"]), max(features[\"Demand Environment\"])]\n",
    "\n",
    "score_min_features = statistics.mean(min_features)\n",
    "score_max_features = statistics.mean(max_features)\n",
    "\n",
    "new_data = []\n",
    "rows, cols = 8, 6\n",
    "for i in range(rows):\n",
    "    col = []\n",
    "    for j in range (cols):\n",
    "        col.append(round(random.uniform(score_min_features, score_max_features), 2))\n",
    "    new_data.append(col)"
   ]
  },
  {
   "cell_type": "code",
   "execution_count": null,
   "id": "de05620e",
   "metadata": {},
   "outputs": [],
   "source": [
    "# inspect the result: new_data \n",
    "#\n",
    "new_data"
   ]
  },
  {
   "cell_type": "code",
   "execution_count": null,
   "id": "c09b7341",
   "metadata": {},
   "outputs": [],
   "source": [
    "# predict quartile (classes) with new_data, based on previously trained model\n",
    "#\n",
    "new_features=pd.DataFrame(new_data).transpose()\n",
    "clf.predict(new_features.transpose())"
   ]
  },
  {
   "cell_type": "code",
   "execution_count": null,
   "id": "adf19a53",
   "metadata": {},
   "outputs": [],
   "source": []
  },
  {
   "cell_type": "code",
   "execution_count": null,
   "id": "1bdf0870",
   "metadata": {},
   "outputs": [],
   "source": []
  }
 ],
 "metadata": {
  "kernelspec": {
   "display_name": "Python 3 (ipykernel)",
   "language": "python",
   "name": "python3"
  },
  "language_info": {
   "codemirror_mode": {
    "name": "ipython",
    "version": 3
   },
   "file_extension": ".py",
   "mimetype": "text/x-python",
   "name": "python",
   "nbconvert_exporter": "python",
   "pygments_lexer": "ipython3",
   "version": "3.9.12"
  }
 },
 "nbformat": 4,
 "nbformat_minor": 5
}
